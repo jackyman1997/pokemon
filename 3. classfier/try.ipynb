{
 "metadata": {
  "language_info": {
   "codemirror_mode": {
    "name": "ipython",
    "version": 3
   },
   "file_extension": ".py",
   "mimetype": "text/x-python",
   "name": "python",
   "nbconvert_exporter": "python",
   "pygments_lexer": "ipython3",
   "version": "3.9.2"
  },
  "orig_nbformat": 2,
  "kernelspec": {
   "name": "python392jvsc74a57bd0f1b8aea7277b061024ce78d0366b16218e411aad22af024bb789fe805868a5e7",
   "display_name": "Python 3.9.2 64-bit"
  },
  "metadata": {
   "interpreter": {
    "hash": "f1b8aea7277b061024ce78d0366b16218e411aad22af024bb789fe805868a5e7"
   }
  }
 },
 "nbformat": 4,
 "nbformat_minor": 2,
 "cells": [
  {
   "cell_type": "code",
   "execution_count": 1,
   "metadata": {},
   "outputs": [],
   "source": [
    "import json  # for importing data"
   ]
  },
  {
   "source": [
    "## Importing and re-formating data\n",
    "\n",
    "First, we need to import the data we have obtained.  \n",
    "1. match or battle log data: `{p1 pokemon, p2 pokemon, did p1 win?, URL}`  \n",
    "2. base stats of each pokemon: `{'Id', 'Name', 'Type(s)', 'TotalBS', 'HP', 'Attack', 'Defense', 'Special Attack', 'Special Defense', 'Speed'}`  \n",
    "\n",
    "<mark>TODO: should pl pokemon be the pokemon which moves first in the match? it is very ambiguous to have pl pokemon just picked by system randomly.</mark>"
   ],
   "cell_type": "markdown",
   "metadata": {}
  },
  {
   "cell_type": "code",
   "execution_count": 23,
   "metadata": {},
   "outputs": [
    {
     "output_type": "stream",
     "name": "stdout",
     "text": [
      "{'pokemon1': 'arcanine', 'pokemon2': 'sharpedo', 'pokemon1 wins': 1, 'url': 'https://replay.pokemonshowdown.com/destiny-challengecup1v1-550920.log'}\n{'Id': 3, 'Name': 'Mega Venusaur', 'Type(s)': ['GRASS', 'POISON'], 'TotalBS': '625', 'HP': '80', 'Attack': '100', 'Defense': '123', 'Special Attack': '122', 'Special Defense': '120', 'Speed': '80'}\n"
     ]
    }
   ],
   "source": [
    "import json\n",
    "\n",
    "# 1. match or battle log data\n",
    "with open('./data/match_ok.json', 'r') as f:\n",
    "    matches = json.load(f)\n",
    "# 2. base stats of each pokemon\n",
    "with open('./data/baseStats.json', 'r') as f:\n",
    "    baseStats = json.load(f)\n",
    "\n",
    "# to see how they look like\n",
    "print(matches[3])\n",
    "print(baseStats[3])"
   ]
  },
  {
   "source": [
    "\n",
    "Then we need to construct the features and labels from these 2 databases,  \n",
    "into a format looks like: `{'p1HP' ,'p1ATK' ,'p1DEF' ,'p1SpATK' ,'p1SpDEF' ,'p1SPD' ,'p2HP' ,'p2ATK' ,'p2DEF' ,'p2SpATK' ,'p2SpDEF' ,'p2SPD' ,'p1wins'}`"
   ],
   "cell_type": "markdown",
   "metadata": {}
  },
  {
   "cell_type": "code",
   "execution_count": 19,
   "metadata": {
    "tags": []
   },
   "outputs": [
    {
     "output_type": "stream",
     "name": "stdout",
     "text": [
      "8895/8895 done\n",
      "8475 rows of data can be proceeded, \n",
      "420 rows of data went missing\n"
     ]
    }
   ],
   "source": [
    "data = []\n",
    "nameNotFound = []\n",
    "N = len(matches)\n",
    "for idx, match in enumerate(matches):  # from each match\n",
    "    # extracting battle info of each match\n",
    "    p1_pokemon = match['pokemon1']\n",
    "    p2_pokemon = match['pokemon2']\n",
    "    p1_wins = match['pokemon1 wins']\n",
    "    # searching for the baseStats given the names of pokemons \n",
    "    info = [i for i in baseStats if p1_pokemon == i['Name'].lower() or p2_pokemon == i['Name'].lower()]  # this give [dict{p1 pokemon}, dict{p2 pokemon}]\n",
    "    # creating new row format\n",
    "    if len(info) == 2:  # for some reason some of the match contains pokemons that can't be found\n",
    "        row = {\n",
    "            'p1HP': int(info[0]['HP']),\n",
    "            'p1ATK' : int(info[0]['Attack']),\n",
    "            'p1DEF' : int(info[0]['Defense']),\n",
    "            'p1SpATK' : int(info[0]['Special Attack']),\n",
    "            'p1SpDEF' : int(info[0]['Special Defense']),\n",
    "            'p1SPD' : int(info[0]['Speed']),\n",
    "            'p2HP' : int(info[1]['HP']),\n",
    "            'p2ATK' : int(info[1]['Attack']),\n",
    "            'p2DEF' : int(info[1]['Defense']),\n",
    "            'p2SpATK' : int(info[1]['Special Attack']),\n",
    "            'p2SpDEF' : int(info[1]['Special Defense']),\n",
    "            'p2SPD' : int(info[1]['Speed']),\n",
    "            'p1wins': p1_wins\n",
    "            }   \n",
    "        data.append(row)  # store in a list\n",
    "    else: \n",
    "        case = {'match index': idx, 'pokemon1': p1_pokemon, 'pokemon2': p2_pokemon, 'URL': match['url']}\n",
    "        nameNotFound.append(case)\n",
    "    print(f'{idx+1}/{N} done', end=\"\\r\")\n",
    "\n",
    "print(f'\\n{len(data)} rows of data can be proceeded, \\n{len(nameNotFound)} rows of data went missing')"
   ]
  },
  {
   "source": [
    "Seems like the problem of missing data is due to p1_pokemon is the same as p2_pokemon.  \n",
    "<mark>TODO: are repeated pokemons bad data?</mark>"
   ],
   "cell_type": "markdown",
   "metadata": {}
  },
  {
   "source": [
    "Convert them into pandas DataFrame for better visualistion and statistics summaries. "
   ],
   "cell_type": "markdown",
   "metadata": {}
  },
  {
   "cell_type": "code",
   "execution_count": 29,
   "metadata": {},
   "outputs": [
    {
     "output_type": "execute_result",
     "data": {
      "text/plain": [
       "   p1HP  p1ATK  p1DEF  p1SpATK  p1SpDEF  p1SPD  p2HP  p2ATK  p2DEF  p2SpATK  \\\n",
       "0    50     75     75       65       65     50   100    150    120      120   \n",
       "1    85     73     70       73      115     67    80     80     90      110   \n",
       "2    66     41     77       61       87     23   100    120    100      150   \n",
       "3    90    110     80      100       80     95    70    120     40       95   \n",
       "4   115    140    130       55       55     40    85     50     95      120   \n",
       "\n",
       "   p2SpDEF  p2SPD  p1wins  \n",
       "0      100     90       1  \n",
       "1      130    110       1  \n",
       "2      120     90       0  \n",
       "3       40     95       1  \n",
       "4      115     80       0  "
      ],
      "text/html": "<div>\n<style scoped>\n    .dataframe tbody tr th:only-of-type {\n        vertical-align: middle;\n    }\n\n    .dataframe tbody tr th {\n        vertical-align: top;\n    }\n\n    .dataframe thead th {\n        text-align: right;\n    }\n</style>\n<table border=\"1\" class=\"dataframe\">\n  <thead>\n    <tr style=\"text-align: right;\">\n      <th></th>\n      <th>p1HP</th>\n      <th>p1ATK</th>\n      <th>p1DEF</th>\n      <th>p1SpATK</th>\n      <th>p1SpDEF</th>\n      <th>p1SPD</th>\n      <th>p2HP</th>\n      <th>p2ATK</th>\n      <th>p2DEF</th>\n      <th>p2SpATK</th>\n      <th>p2SpDEF</th>\n      <th>p2SPD</th>\n      <th>p1wins</th>\n    </tr>\n  </thead>\n  <tbody>\n    <tr>\n      <th>0</th>\n      <td>50</td>\n      <td>75</td>\n      <td>75</td>\n      <td>65</td>\n      <td>65</td>\n      <td>50</td>\n      <td>100</td>\n      <td>150</td>\n      <td>120</td>\n      <td>120</td>\n      <td>100</td>\n      <td>90</td>\n      <td>1</td>\n    </tr>\n    <tr>\n      <th>1</th>\n      <td>85</td>\n      <td>73</td>\n      <td>70</td>\n      <td>73</td>\n      <td>115</td>\n      <td>67</td>\n      <td>80</td>\n      <td>80</td>\n      <td>90</td>\n      <td>110</td>\n      <td>130</td>\n      <td>110</td>\n      <td>1</td>\n    </tr>\n    <tr>\n      <th>2</th>\n      <td>66</td>\n      <td>41</td>\n      <td>77</td>\n      <td>61</td>\n      <td>87</td>\n      <td>23</td>\n      <td>100</td>\n      <td>120</td>\n      <td>100</td>\n      <td>150</td>\n      <td>120</td>\n      <td>90</td>\n      <td>0</td>\n    </tr>\n    <tr>\n      <th>3</th>\n      <td>90</td>\n      <td>110</td>\n      <td>80</td>\n      <td>100</td>\n      <td>80</td>\n      <td>95</td>\n      <td>70</td>\n      <td>120</td>\n      <td>40</td>\n      <td>95</td>\n      <td>40</td>\n      <td>95</td>\n      <td>1</td>\n    </tr>\n    <tr>\n      <th>4</th>\n      <td>115</td>\n      <td>140</td>\n      <td>130</td>\n      <td>55</td>\n      <td>55</td>\n      <td>40</td>\n      <td>85</td>\n      <td>50</td>\n      <td>95</td>\n      <td>120</td>\n      <td>115</td>\n      <td>80</td>\n      <td>0</td>\n    </tr>\n  </tbody>\n</table>\n</div>"
     },
     "metadata": {},
     "execution_count": 29
    }
   ],
   "source": [
    "import pandas as pd\n",
    "\n",
    "df = pd.DataFrame(data)\n",
    "df.head()"
   ]
  },
  {
   "cell_type": "code",
   "execution_count": 30,
   "metadata": {},
   "outputs": [
    {
     "output_type": "stream",
     "name": "stdout",
     "text": [
      "<class 'pandas.core.frame.DataFrame'>\nRangeIndex: 8475 entries, 0 to 8474\nData columns (total 13 columns):\n #   Column   Non-Null Count  Dtype\n---  ------   --------------  -----\n 0   p1HP     8475 non-null   int64\n 1   p1ATK    8475 non-null   int64\n 2   p1DEF    8475 non-null   int64\n 3   p1SpATK  8475 non-null   int64\n 4   p1SpDEF  8475 non-null   int64\n 5   p1SPD    8475 non-null   int64\n 6   p2HP     8475 non-null   int64\n 7   p2ATK    8475 non-null   int64\n 8   p2DEF    8475 non-null   int64\n 9   p2SpATK  8475 non-null   int64\n 10  p2SpDEF  8475 non-null   int64\n 11  p2SPD    8475 non-null   int64\n 12  p1wins   8475 non-null   int64\ndtypes: int64(13)\nmemory usage: 860.9 KB\n"
     ]
    }
   ],
   "source": [
    "df.info()"
   ]
  },
  {
   "cell_type": "code",
   "execution_count": 31,
   "metadata": {},
   "outputs": [
    {
     "output_type": "execute_result",
     "data": {
      "text/plain": [
       "              p1HP        p1ATK        p1DEF      p1SpATK      p1SpDEF  \\\n",
       "count  8475.000000  8475.000000  8475.000000  8475.000000  8475.000000   \n",
       "mean     82.725074    91.734041    84.913628    86.044956    85.775457   \n",
       "std      29.844925    29.647326    28.294264    29.296954    22.656316   \n",
       "min       1.000000     5.000000     5.000000    10.000000    20.000000   \n",
       "25%      65.000000    72.000000    70.000000    60.000000    75.000000   \n",
       "50%      80.000000    90.000000    83.000000    95.000000    85.000000   \n",
       "75%      95.000000   115.000000   100.000000   109.000000   100.000000   \n",
       "max     255.000000   181.000000   230.000000   173.000000   230.000000   \n",
       "\n",
       "             p1SPD         p2HP        p2ATK        p2DEF      p2SpATK  \\\n",
       "count  8475.000000  8475.000000  8475.000000  8475.000000  8475.000000   \n",
       "mean     78.676224    83.767788    98.152330    89.796814    89.126136   \n",
       "std      26.470136    26.374245    30.915781    28.455747    29.616206   \n",
       "min       5.000000     1.000000     5.000000     5.000000    10.000000   \n",
       "25%      60.000000    70.000000    75.000000    70.000000    63.000000   \n",
       "50%      80.000000    80.000000   100.000000    90.000000    95.000000   \n",
       "75%     100.000000    97.000000   120.000000   100.000000   110.000000   \n",
       "max     200.000000   255.000000   181.000000   230.000000   173.000000   \n",
       "\n",
       "           p2SpDEF        p2SPD       p1wins  \n",
       "count  8475.000000  8475.000000  8475.000000  \n",
       "mean     87.443894    81.631150     0.515280  \n",
       "std      26.053244    28.020722     0.499796  \n",
       "min      20.000000     5.000000     0.000000  \n",
       "25%      71.000000    60.000000     0.000000  \n",
       "50%      90.000000    85.000000     1.000000  \n",
       "75%     100.000000   100.000000     1.000000  \n",
       "max     230.000000   200.000000     1.000000  "
      ],
      "text/html": "<div>\n<style scoped>\n    .dataframe tbody tr th:only-of-type {\n        vertical-align: middle;\n    }\n\n    .dataframe tbody tr th {\n        vertical-align: top;\n    }\n\n    .dataframe thead th {\n        text-align: right;\n    }\n</style>\n<table border=\"1\" class=\"dataframe\">\n  <thead>\n    <tr style=\"text-align: right;\">\n      <th></th>\n      <th>p1HP</th>\n      <th>p1ATK</th>\n      <th>p1DEF</th>\n      <th>p1SpATK</th>\n      <th>p1SpDEF</th>\n      <th>p1SPD</th>\n      <th>p2HP</th>\n      <th>p2ATK</th>\n      <th>p2DEF</th>\n      <th>p2SpATK</th>\n      <th>p2SpDEF</th>\n      <th>p2SPD</th>\n      <th>p1wins</th>\n    </tr>\n  </thead>\n  <tbody>\n    <tr>\n      <th>count</th>\n      <td>8475.000000</td>\n      <td>8475.000000</td>\n      <td>8475.000000</td>\n      <td>8475.000000</td>\n      <td>8475.000000</td>\n      <td>8475.000000</td>\n      <td>8475.000000</td>\n      <td>8475.000000</td>\n      <td>8475.000000</td>\n      <td>8475.000000</td>\n      <td>8475.000000</td>\n      <td>8475.000000</td>\n      <td>8475.000000</td>\n    </tr>\n    <tr>\n      <th>mean</th>\n      <td>82.725074</td>\n      <td>91.734041</td>\n      <td>84.913628</td>\n      <td>86.044956</td>\n      <td>85.775457</td>\n      <td>78.676224</td>\n      <td>83.767788</td>\n      <td>98.152330</td>\n      <td>89.796814</td>\n      <td>89.126136</td>\n      <td>87.443894</td>\n      <td>81.631150</td>\n      <td>0.515280</td>\n    </tr>\n    <tr>\n      <th>std</th>\n      <td>29.844925</td>\n      <td>29.647326</td>\n      <td>28.294264</td>\n      <td>29.296954</td>\n      <td>22.656316</td>\n      <td>26.470136</td>\n      <td>26.374245</td>\n      <td>30.915781</td>\n      <td>28.455747</td>\n      <td>29.616206</td>\n      <td>26.053244</td>\n      <td>28.020722</td>\n      <td>0.499796</td>\n    </tr>\n    <tr>\n      <th>min</th>\n      <td>1.000000</td>\n      <td>5.000000</td>\n      <td>5.000000</td>\n      <td>10.000000</td>\n      <td>20.000000</td>\n      <td>5.000000</td>\n      <td>1.000000</td>\n      <td>5.000000</td>\n      <td>5.000000</td>\n      <td>10.000000</td>\n      <td>20.000000</td>\n      <td>5.000000</td>\n      <td>0.000000</td>\n    </tr>\n    <tr>\n      <th>25%</th>\n      <td>65.000000</td>\n      <td>72.000000</td>\n      <td>70.000000</td>\n      <td>60.000000</td>\n      <td>75.000000</td>\n      <td>60.000000</td>\n      <td>70.000000</td>\n      <td>75.000000</td>\n      <td>70.000000</td>\n      <td>63.000000</td>\n      <td>71.000000</td>\n      <td>60.000000</td>\n      <td>0.000000</td>\n    </tr>\n    <tr>\n      <th>50%</th>\n      <td>80.000000</td>\n      <td>90.000000</td>\n      <td>83.000000</td>\n      <td>95.000000</td>\n      <td>85.000000</td>\n      <td>80.000000</td>\n      <td>80.000000</td>\n      <td>100.000000</td>\n      <td>90.000000</td>\n      <td>95.000000</td>\n      <td>90.000000</td>\n      <td>85.000000</td>\n      <td>1.000000</td>\n    </tr>\n    <tr>\n      <th>75%</th>\n      <td>95.000000</td>\n      <td>115.000000</td>\n      <td>100.000000</td>\n      <td>109.000000</td>\n      <td>100.000000</td>\n      <td>100.000000</td>\n      <td>97.000000</td>\n      <td>120.000000</td>\n      <td>100.000000</td>\n      <td>110.000000</td>\n      <td>100.000000</td>\n      <td>100.000000</td>\n      <td>1.000000</td>\n    </tr>\n    <tr>\n      <th>max</th>\n      <td>255.000000</td>\n      <td>181.000000</td>\n      <td>230.000000</td>\n      <td>173.000000</td>\n      <td>230.000000</td>\n      <td>200.000000</td>\n      <td>255.000000</td>\n      <td>181.000000</td>\n      <td>230.000000</td>\n      <td>173.000000</td>\n      <td>230.000000</td>\n      <td>200.000000</td>\n      <td>1.000000</td>\n    </tr>\n  </tbody>\n</table>\n</div>"
     },
     "metadata": {},
     "execution_count": 31
    }
   ],
   "source": [
    "df.describe()"
   ]
  },
  {
   "source": [
    "done\n",
    "___"
   ],
   "cell_type": "markdown",
   "metadata": {}
  },
  {
   "source": [
    "## Statistics explanations \n",
    "I m gna skip this part for now and will come back later"
   ],
   "cell_type": "markdown",
   "metadata": {}
  },
  {
   "cell_type": "code",
   "execution_count": null,
   "metadata": {},
   "outputs": [],
   "source": []
  },
  {
   "source": [
    "skipped\n",
    "___"
   ],
   "cell_type": "markdown",
   "metadata": {}
  },
  {
   "source": [
    "## Feature engineering\n",
    "I m gna skip this part for now and will come back later"
   ],
   "cell_type": "markdown",
   "metadata": {}
  },
  {
   "cell_type": "code",
   "execution_count": null,
   "metadata": {},
   "outputs": [],
   "source": []
  },
  {
   "source": [
    "skipped\n",
    "___"
   ],
   "cell_type": "markdown",
   "metadata": {}
  },
  {
   "source": [
    "## $f_m$ Optimisation\n",
    "This is a measure of how good a particular threshold value is:   \n",
    "$$ \n",
    "\\begin{align}\n",
    "    f_m &= \\text{TPR} - m \\times \\text{FPR} \\\\\n",
    "    m &= \\frac{1 - \\text{prevalence}}{\\text{prevalence}} \\times \\frac{\\text{cost of negative}}{\\text{cost of positive}} \\\\\n",
    "    \\text{threshold}_{best} &= \\mathrm{argmax}\\ f_m\n",
    "\\end{align}\n",
    "$$\n",
    "Sometimes:  \n",
    "$$\n",
    "\\begin{align}\n",
    "    \\text{cost of negative} &= \\text{cost of False positive} - \\text{cost of True negative} \\\\\n",
    "    \\text{cost of positive} &= \\text{cost of False negative} - \\text{cost of True positive} \\\\\n",
    "    m &= \\frac{1 - \\text{prevalence}}{\\text{prevalence}} \\times \\frac{C_{FP}-C_{TN}}{C_{FN}-C_{TP}}\n",
    "\\end{align}\n",
    "$$\n",
    "$\\text{cost of negative}$ and $\\text{cost of positive}$ are pre-determined values and usually we guess them based on the consequences for getting negative or positive results.  \n",
    "So, within a set of values for threshold, the higher $f_m$ value, the better threshold. "
   ],
   "cell_type": "markdown",
   "metadata": {}
  },
  {
   "cell_type": "code",
   "execution_count": null,
   "metadata": {},
   "outputs": [],
   "source": [
    "class FmOptimisation()\n",
    "\n",
    "    def __init__(self):\n",
    "        pass\n",
    "        \n",
    "    \n",
    "    "
   ]
  }
 ]
}