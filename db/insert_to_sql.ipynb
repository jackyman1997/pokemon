{
 "cells": [
  {
   "cell_type": "code",
   "execution_count": 1,
   "metadata": {},
   "outputs": [],
   "source": [
    "import mysql.connector\n",
    "import getpass  # use dotenv, import dotenv\n",
    "import pandas as pd\n",
    "import tqdm\n",
    "import json\n",
    "import requests\n",
    "\n",
    "from sql_utils import insert_to_table"
   ]
  },
  {
   "cell_type": "code",
   "execution_count": 2,
   "metadata": {},
   "outputs": [],
   "source": [
    "# connect to my local mysql server\n",
    "my_pokemon = mysql.connector.connect(\n",
    "    host=\"localhost\", \n",
    "    user=\"root\", \n",
    "    password=getpass.getpass(\"password\"),\n",
    "    port=3306, \n",
    "    database=\"RAW_POKEMON\"\n",
    ")\n",
    "\n",
    "my_cursor = my_pokemon.cursor(buffered=True)"
   ]
  },
  {
   "cell_type": "code",
   "execution_count": 3,
   "metadata": {},
   "outputs": [],
   "source": [
    "# insert types\n",
    "def insert_types(connector, cursor, jsonpath): \n",
    "    with open(jsonpath, 'r') as f:\n",
    "        values = json.load(f)\n",
    "    for value in values: \n",
    "        insert_to_table(\n",
    "            connector=connector, \n",
    "            cursor=cursor,\n",
    "            table='Types_map',\n",
    "            columns=['type_names'],  # these 2 have to be in list of items\n",
    "            values=[value]\n",
    "        )\n",
    "\n",
    "\n",
    "insert_types(connector=my_pokemon, cursor=my_cursor, jsonpath='./raw/types.json')"
   ]
  },
  {
   "cell_type": "code",
   "execution_count": 4,
   "metadata": {},
   "outputs": [
    {
     "name": "stderr",
     "output_type": "stream",
     "text": [
      "100%|██████████| 1045/1045 [00:00<00:00, 2372.34it/s]\n"
     ]
    }
   ],
   "source": [
    "# completing the table, ETL (treating the xlsx as the extracted data, then transform into the format to match the table)\n",
    "excel_path = \"./raw/data.xlsx\"\n",
    "all_pokemons = pd.read_excel(excel_path, index_col=[0])\n",
    "\n",
    "\n",
    "# transform\n",
    "rows = []\n",
    "keep_columns = ['Id', 'Name', 'Type(s)', 'HP', 'Attack', 'Defense', 'Special Attack', 'Special Defense', 'Speed']\n",
    "for i, row in all_pokemons.iterrows():\n",
    "    row = [\n",
    "        v if k != 'Type(s)' else eval(v) \n",
    "        for k, v in row.items() \n",
    "        if k in keep_columns\n",
    "    ]  # use list here as tuple is immutable\n",
    "    # deal with the type\n",
    "    if len(row[2]) == 1:  # only 1 type\n",
    "        types = row.pop(2)\n",
    "        row.insert(2, types[0])\n",
    "        row.insert(3, \"Null\")\n",
    "    elif len(row[2]) == 2:  # 2 types\n",
    "        types = row.pop(2)\n",
    "        row.insert(2, types[0])\n",
    "        row.insert(3, types[1])\n",
    "    rows.append(row)\n",
    "\n",
    "\n",
    "keys = ['pokedex_id', 'pokemon_name', 'type1', 'type2', 'HP',\n",
    "        'Attack', 'Defense', 'Special_Attack', 'Special_Defense', 'Speed']\n",
    "for row in tqdm.tqdm(rows):\n",
    "    insert_to_table(my_pokemon, my_cursor, table='Pokemons',\n",
    "                    columns=keys, values=row)"
   ]
  },
  {
   "cell_type": "code",
   "execution_count": 5,
   "metadata": {},
   "outputs": [],
   "source": [
    "# insert alias\n",
    "with open('./raw/alias.json', 'r') as f:\n",
    "    alias = json.load(f)\n",
    "\n",
    "for k, v in alias.items(): \n",
    "    insert_to_table(\n",
    "        connector=my_pokemon, \n",
    "        cursor=my_cursor,\n",
    "        table='Alias_map',\n",
    "        columns=['name1', 'name2'],  # these 2 have to be in list of items\n",
    "        values=[v, k]\n",
    "    )"
   ]
  },
  {
   "cell_type": "code",
   "execution_count": 6,
   "metadata": {},
   "outputs": [
    {
     "name": "stderr",
     "output_type": "stream",
     "text": [
      "8895it [00:03, 2528.28it/s]\n"
     ]
    }
   ],
   "source": [
    "# insert battles\n",
    "battle_path = './raw/match_data.json'\n",
    "battle = pd.read_json(battle_path)\n",
    "\n",
    "# have a look\n",
    "keys = ['pokemon1', 'pokemon2', 'outcome', 'log_url']\n",
    "for i, row in tqdm.tqdm(battle.iterrows()):\n",
    "    insert_to_table(my_pokemon, my_cursor, table='Battles',\n",
    "                    columns=keys, values=[v for k, v in row.items()])"
   ]
  },
  {
   "cell_type": "code",
   "execution_count": null,
   "metadata": {},
   "outputs": [],
   "source": []
  }
 ],
 "metadata": {
  "interpreter": {
   "hash": "6fcfce8287c99ee8ec54ea3dbdb63da6dfb1de42a7b0d19825747adafe274d88"
  },
  "kernelspec": {
   "display_name": "Python 3.9.7 ('base')",
   "language": "python",
   "name": "python3"
  },
  "language_info": {
   "codemirror_mode": {
    "name": "ipython",
    "version": 3
   },
   "file_extension": ".py",
   "mimetype": "text/x-python",
   "name": "python",
   "nbconvert_exporter": "python",
   "pygments_lexer": "ipython3",
   "version": "3.9.7"
  },
  "orig_nbformat": 4
 },
 "nbformat": 4,
 "nbformat_minor": 2
}
