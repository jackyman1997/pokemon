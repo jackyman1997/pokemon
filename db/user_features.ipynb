{
 "cells": [
  {
   "cell_type": "markdown",
   "metadata": {},
   "source": [
    "Do this:  \n",
    "```\n",
    "pip install mysql-connector-python\n",
    "```"
   ]
  },
  {
   "cell_type": "code",
   "execution_count": 9,
   "metadata": {},
   "outputs": [
    {
     "name": "stderr",
     "output_type": "stream",
     "text": [
      "UsageError: Line magic function `%matplotlib.inline` not found.\n"
     ]
    }
   ],
   "source": [
    "import mysql.connector\n",
    "import getpass\n",
    "import pandas as pd\n",
    "import tqdm\n",
    "import json\n",
    "from matplotlib import pyplot as plt\n",
    "%matplotlib.inline"
   ]
  },
  {
   "cell_type": "markdown",
   "metadata": {},
   "source": [
    "# connect to mysql server using python"
   ]
  },
  {
   "cell_type": "code",
   "execution_count": 2,
   "metadata": {},
   "outputs": [
    {
     "data": {
      "text/plain": [
       "[]"
      ]
     },
     "execution_count": 2,
     "metadata": {},
     "output_type": "execute_result"
    }
   ],
   "source": [
    "# connect to my local mysql server\n",
    "my_pokemon = mysql.connector.connect(\n",
    "    host=\"localhost\", \n",
    "    user=\"root\", \n",
    "    password=getpass.getpass(\"password\"),\n",
    "    port=3306, \n",
    "    database=\"MyPokemon\"\n",
    ")\n",
    "\n",
    "# test query\n",
    "mycursor = my_pokemon.cursor(buffered=True)\n",
    "mycursor.execute(\"SELECT * FROM pokemon LIMIT 5\")\n",
    "[print(i) for i in mycursor]"
   ]
  },
  {
   "cell_type": "markdown",
   "metadata": {},
   "source": [
    "# insert data using python\n",
    "assuming the data collect is done and all we have is some excel and json files (data collection)  -> Extract  \n",
    "here is the process to insert data from the collected data (could be dirty),  \n",
    "but before that we need to make them fit in with the table we create -> transform  \n",
    "then we upload them -> load\n",
    "\n",
    "(in fact, the excel file is an outcome of ELT -> ETL)"
   ]
  },
  {
   "cell_type": "code",
   "execution_count": 3,
   "metadata": {},
   "outputs": [
    {
     "data": {
      "text/html": [
       "<div>\n",
       "<style scoped>\n",
       "    .dataframe tbody tr th:only-of-type {\n",
       "        vertical-align: middle;\n",
       "    }\n",
       "\n",
       "    .dataframe tbody tr th {\n",
       "        vertical-align: top;\n",
       "    }\n",
       "\n",
       "    .dataframe thead th {\n",
       "        text-align: right;\n",
       "    }\n",
       "</style>\n",
       "<table border=\"1\" class=\"dataframe\">\n",
       "  <thead>\n",
       "    <tr style=\"text-align: right;\">\n",
       "      <th></th>\n",
       "      <th>Unnamed: 0.1</th>\n",
       "      <th>Unnamed: 0</th>\n",
       "      <th>Id</th>\n",
       "      <th>Name</th>\n",
       "      <th>Icon</th>\n",
       "      <th>Type(s)</th>\n",
       "      <th>TotalBS</th>\n",
       "      <th>HP</th>\n",
       "      <th>Attack</th>\n",
       "      <th>Defense</th>\n",
       "      <th>Special Attack</th>\n",
       "      <th>Special Defense</th>\n",
       "      <th>Speed</th>\n",
       "      <th>Number of battles</th>\n",
       "      <th>Number of wins</th>\n",
       "      <th>Win rates</th>\n",
       "    </tr>\n",
       "  </thead>\n",
       "  <tbody>\n",
       "    <tr>\n",
       "      <th>0</th>\n",
       "      <td>0</td>\n",
       "      <td>0</td>\n",
       "      <td>1</td>\n",
       "      <td>Bulbasaur</td>\n",
       "      <td>./pokemon_icons/1. Bulbasaur.jpg</td>\n",
       "      <td>['GRASS', 'POISON']</td>\n",
       "      <td>318</td>\n",
       "      <td>45</td>\n",
       "      <td>49</td>\n",
       "      <td>49</td>\n",
       "      <td>65</td>\n",
       "      <td>65</td>\n",
       "      <td>45</td>\n",
       "      <td>3.0</td>\n",
       "      <td>2.0</td>\n",
       "      <td>0.666667</td>\n",
       "    </tr>\n",
       "    <tr>\n",
       "      <th>1</th>\n",
       "      <td>1</td>\n",
       "      <td>1</td>\n",
       "      <td>2</td>\n",
       "      <td>Ivysaur</td>\n",
       "      <td>./pokemon_icons/2. Ivysaur.jpg</td>\n",
       "      <td>['GRASS', 'POISON']</td>\n",
       "      <td>405</td>\n",
       "      <td>60</td>\n",
       "      <td>62</td>\n",
       "      <td>63</td>\n",
       "      <td>80</td>\n",
       "      <td>80</td>\n",
       "      <td>60</td>\n",
       "      <td>33.0</td>\n",
       "      <td>25.0</td>\n",
       "      <td>0.757576</td>\n",
       "    </tr>\n",
       "    <tr>\n",
       "      <th>2</th>\n",
       "      <td>2</td>\n",
       "      <td>2</td>\n",
       "      <td>3</td>\n",
       "      <td>Venusaur</td>\n",
       "      <td>./pokemon_icons/3. Venusaur.jpg</td>\n",
       "      <td>['GRASS', 'POISON']</td>\n",
       "      <td>525</td>\n",
       "      <td>80</td>\n",
       "      <td>82</td>\n",
       "      <td>83</td>\n",
       "      <td>100</td>\n",
       "      <td>100</td>\n",
       "      <td>80</td>\n",
       "      <td>184.0</td>\n",
       "      <td>127.0</td>\n",
       "      <td>0.690217</td>\n",
       "    </tr>\n",
       "    <tr>\n",
       "      <th>3</th>\n",
       "      <td>3</td>\n",
       "      <td>3</td>\n",
       "      <td>3</td>\n",
       "      <td>Mega Venusaur</td>\n",
       "      <td>./pokemon_icons/3. Mega Venusaur.jpg</td>\n",
       "      <td>['GRASS', 'POISON']</td>\n",
       "      <td>625</td>\n",
       "      <td>80</td>\n",
       "      <td>100</td>\n",
       "      <td>123</td>\n",
       "      <td>122</td>\n",
       "      <td>120</td>\n",
       "      <td>80</td>\n",
       "      <td>NaN</td>\n",
       "      <td>NaN</td>\n",
       "      <td>NaN</td>\n",
       "    </tr>\n",
       "    <tr>\n",
       "      <th>4</th>\n",
       "      <td>4</td>\n",
       "      <td>4</td>\n",
       "      <td>4</td>\n",
       "      <td>Charmander</td>\n",
       "      <td>./pokemon_icons/4. Charmander.jpg</td>\n",
       "      <td>['FIRE']</td>\n",
       "      <td>309</td>\n",
       "      <td>39</td>\n",
       "      <td>52</td>\n",
       "      <td>43</td>\n",
       "      <td>60</td>\n",
       "      <td>50</td>\n",
       "      <td>65</td>\n",
       "      <td>9.0</td>\n",
       "      <td>7.0</td>\n",
       "      <td>0.777778</td>\n",
       "    </tr>\n",
       "  </tbody>\n",
       "</table>\n",
       "</div>"
      ],
      "text/plain": [
       "   Unnamed: 0.1  Unnamed: 0  Id           Name  \\\n",
       "0             0           0   1      Bulbasaur   \n",
       "1             1           1   2        Ivysaur   \n",
       "2             2           2   3       Venusaur   \n",
       "3             3           3   3  Mega Venusaur   \n",
       "4             4           4   4     Charmander   \n",
       "\n",
       "                                   Icon              Type(s)  TotalBS  HP  \\\n",
       "0      ./pokemon_icons/1. Bulbasaur.jpg  ['GRASS', 'POISON']      318  45   \n",
       "1        ./pokemon_icons/2. Ivysaur.jpg  ['GRASS', 'POISON']      405  60   \n",
       "2       ./pokemon_icons/3. Venusaur.jpg  ['GRASS', 'POISON']      525  80   \n",
       "3  ./pokemon_icons/3. Mega Venusaur.jpg  ['GRASS', 'POISON']      625  80   \n",
       "4     ./pokemon_icons/4. Charmander.jpg             ['FIRE']      309  39   \n",
       "\n",
       "   Attack  Defense  Special Attack  Special Defense  Speed  Number of battles  \\\n",
       "0      49       49              65               65     45                3.0   \n",
       "1      62       63              80               80     60               33.0   \n",
       "2      82       83             100              100     80              184.0   \n",
       "3     100      123             122              120     80                NaN   \n",
       "4      52       43              60               50     65                9.0   \n",
       "\n",
       "   Number of wins  Win rates  \n",
       "0             2.0   0.666667  \n",
       "1            25.0   0.757576  \n",
       "2           127.0   0.690217  \n",
       "3             NaN        NaN  \n",
       "4             7.0   0.777778  "
      ]
     },
     "execution_count": 3,
     "metadata": {},
     "output_type": "execute_result"
    }
   ],
   "source": [
    "# completing the table, ETL (treating the xlsx as the extracted data, then transform into the format to match the table)\n",
    "excel_path = \"data.xlsx\"\n",
    "all_pokemons = pd.read_excel(excel_path)\n",
    "\n",
    "# have a look\n",
    "all_pokemons.head()"
   ]
  },
  {
   "cell_type": "code",
   "execution_count": 4,
   "metadata": {},
   "outputs": [],
   "source": [
    "# transform\n",
    "rows = []\n",
    "keep_columns = ['Id', 'Name', 'Type(s)', 'HP', 'Attack', 'Defense', 'Special Attack', 'Special Defense', 'Speed']\n",
    "\n",
    "for i, row in all_pokemons.iterrows():\n",
    "    row = [\n",
    "        v if k != 'Type(s)' else eval(v) \n",
    "        for k, v in row.items() \n",
    "        if k in keep_columns\n",
    "    ]  # use list here as tuple is immutable\n",
    "    # deal with the type\n",
    "    if len(row[2]) == 1:  # only 1 type\n",
    "        types = row.pop(2)\n",
    "        row.insert(2, types[0])\n",
    "        row.insert(3, \"Null\")\n",
    "    elif len(row[2]) == 2:  # 2 types\n",
    "        types = row.pop(2)\n",
    "        row.insert(2, types[0])\n",
    "        row.insert(3, types[1])\n",
    "    rows.append(row)"
   ]
  },
  {
   "cell_type": "code",
   "execution_count": 5,
   "metadata": {},
   "outputs": [
    {
     "name": "stderr",
     "output_type": "stream",
     "text": [
      "100%|██████████| 1045/1045 [00:00<00:00, 2360.48it/s]\n"
     ]
    }
   ],
   "source": [
    "# load, insert them into my db\n",
    "def insert_to_table(connector, cursor, table, columns, values):\n",
    "    '''\n",
    "    this function assumes user to know what columns are needed, \n",
    "    later on i will come back for more\n",
    "    '''\n",
    "    # cast all items in values into string XXX\n",
    "    values = [f'\"{v}\"' if isinstance(v, str) and v != \"Null\" else str(v) for v in values]\n",
    "    # create the insert sql XXX (better to construct the sql with in cursor.execute())\n",
    "    query_str = f\"INSERT INTO {table} ({', '.join(iter(columns))}) VALUES ({', '.join(iter(values))})\"\n",
    "    # print(query_str, end=\"\\r\")\n",
    "    # execute\n",
    "    try:\n",
    "        cursor.execute(query_str)\n",
    "        connector.commit()  # push to the database\n",
    "    except mysql.connector.Error as err:\n",
    "        raise err\n",
    "\n",
    "\n",
    "keys = ['pokedex_id', 'pokemon_name', 'type_1', 'type_2', 'HP',\n",
    "        'Attack', 'Defense', 'Special_Attack', 'Special_Defense', 'Speed']\n",
    "for row in tqdm.tqdm(rows):\n",
    "    insert_to_table(my_pokemon, mycursor, table='pokemon',\n",
    "                    columns=keys, values=row)\n"
   ]
  },
  {
   "cell_type": "markdown",
   "metadata": {},
   "source": [
    "# insert battle data\n",
    "but some of the battle data use a different set of pokemon names so I will need to somehow convert them. "
   ]
  },
  {
   "cell_type": "code",
   "execution_count": 10,
   "metadata": {},
   "outputs": [
    {
     "data": {
      "text/html": [
       "<div>\n",
       "<style scoped>\n",
       "    .dataframe tbody tr th:only-of-type {\n",
       "        vertical-align: middle;\n",
       "    }\n",
       "\n",
       "    .dataframe tbody tr th {\n",
       "        vertical-align: top;\n",
       "    }\n",
       "\n",
       "    .dataframe thead th {\n",
       "        text-align: right;\n",
       "    }\n",
       "</style>\n",
       "<table border=\"1\" class=\"dataframe\">\n",
       "  <thead>\n",
       "    <tr style=\"text-align: right;\">\n",
       "      <th></th>\n",
       "      <th>pokemon1</th>\n",
       "      <th>pokemon2</th>\n",
       "      <th>pokemon1 wins</th>\n",
       "      <th>url</th>\n",
       "    </tr>\n",
       "  </thead>\n",
       "  <tbody>\n",
       "    <tr>\n",
       "      <th>0</th>\n",
       "      <td>Zekrom</td>\n",
       "      <td>Sableye</td>\n",
       "      <td>1</td>\n",
       "      <td>https://replay.pokemonshowdown.com/destiny-cha...</td>\n",
       "    </tr>\n",
       "    <tr>\n",
       "      <th>1</th>\n",
       "      <td>Hypno</td>\n",
       "      <td>Latias</td>\n",
       "      <td>1</td>\n",
       "      <td>https://replay.pokemonshowdown.com/destiny-cha...</td>\n",
       "    </tr>\n",
       "    <tr>\n",
       "      <th>2</th>\n",
       "      <td>Lileep</td>\n",
       "      <td>Reshiram</td>\n",
       "      <td>0</td>\n",
       "      <td>https://replay.pokemonshowdown.com/destiny-cha...</td>\n",
       "    </tr>\n",
       "    <tr>\n",
       "      <th>3</th>\n",
       "      <td>Arcanine</td>\n",
       "      <td>Sharpedo</td>\n",
       "      <td>1</td>\n",
       "      <td>https://replay.pokemonshowdown.com/destiny-cha...</td>\n",
       "    </tr>\n",
       "    <tr>\n",
       "      <th>4</th>\n",
       "      <td>Rhyperior</td>\n",
       "      <td>Togekiss</td>\n",
       "      <td>0</td>\n",
       "      <td>https://replay.pokemonshowdown.com/destiny-cha...</td>\n",
       "    </tr>\n",
       "  </tbody>\n",
       "</table>\n",
       "</div>"
      ],
      "text/plain": [
       "    pokemon1  pokemon2  pokemon1 wins  \\\n",
       "0     Zekrom   Sableye              1   \n",
       "1      Hypno    Latias              1   \n",
       "2     Lileep  Reshiram              0   \n",
       "3   Arcanine  Sharpedo              1   \n",
       "4  Rhyperior  Togekiss              0   \n",
       "\n",
       "                                                 url  \n",
       "0  https://replay.pokemonshowdown.com/destiny-cha...  \n",
       "1  https://replay.pokemonshowdown.com/destiny-cha...  \n",
       "2  https://replay.pokemonshowdown.com/destiny-cha...  \n",
       "3  https://replay.pokemonshowdown.com/destiny-cha...  \n",
       "4  https://replay.pokemonshowdown.com/destiny-cha...  "
      ]
     },
     "execution_count": 10,
     "metadata": {},
     "output_type": "execute_result"
    }
   ],
   "source": [
    "battle_path = '../1. data/showdown/match_data.json'\n",
    "battle = pd.read_json(battle_path)\n",
    "\n",
    "# key is alias, value is the name in the sql server\n",
    "alias_path = '../1. data/showdown/alias.json'\n",
    "with open(alias_path, 'r') as f: \n",
    "    alias_name = json.load(f)\n",
    "\n",
    "# change all alias names\n",
    "for i, row in battle.iterrows():\n",
    "    if row['pokemon1'] in alias_name.keys(): \n",
    "        battle.at[i, 'pokemon1'] =  alias_name[row['pokemon1']]\n",
    "    if row['pokemon2'] in alias_name.keys(): \n",
    "        battle.at[i, 'pokemon2'] =  alias_name[row['pokemon2']]\n",
    "\n",
    "# capitalise all pokemon names \n",
    "battle['pokemon1'] = battle['pokemon1'].apply(lambda x: x.capitalize())\n",
    "battle['pokemon2'] = battle['pokemon2'].apply(lambda x: x.capitalize())\n",
    "\n",
    "\n",
    "# have a look\n",
    "battle.head()"
   ]
  },
  {
   "cell_type": "code",
   "execution_count": 26,
   "metadata": {},
   "outputs": [
    {
     "name": "stderr",
     "output_type": "stream",
     "text": [
      "10327it [00:03, 2676.26it/s]\n"
     ]
    }
   ],
   "source": [
    "keys = ['pokemon1', 'pokemon2', 'pokemon1_win', 'url']\n",
    "for i, row in tqdm.tqdm(battle.iterrows()):\n",
    "    insert_to_table(my_pokemon, mycursor, table='battle',\n",
    "                    columns=keys, values=[v for k, v in row.items()])"
   ]
  },
  {
   "cell_type": "markdown",
   "metadata": {},
   "source": [
    "# search pokemon name"
   ]
  },
  {
   "cell_type": "code",
   "execution_count": 6,
   "metadata": {},
   "outputs": [
    {
     "data": {
      "text/plain": [
       "[(33, 25, 'Pikachu', 'ELECTRIC', None, 35, 55, 40, 50, 50, 90),\n",
       " (34, 25, 'Partner Pikachu', 'ELECTRIC', None, 45, 80, 50, 75, 60, 120)]"
      ]
     },
     "execution_count": 6,
     "metadata": {},
     "output_type": "execute_result"
    }
   ],
   "source": [
    "def search_pokemon_by_name(cursor, keywords): \n",
    "    table = \"pokemon\"\n",
    "    name_column = \"pokemon_name\"\n",
    "    query_str = f\"SELECT * FROM {table} WHERE {name_column} like '%{keywords}%'\"\n",
    "    try: \n",
    "        cursor.execute(query_str)\n",
    "    except mysql.connector.Error as err:\n",
    "        raise err\n",
    "    return cursor.fetchall()\n",
    "\n",
    "\n",
    "search_pokemon_by_name(mycursor, \"pika\")"
   ]
  },
  {
   "cell_type": "markdown",
   "metadata": {},
   "source": [
    "# create histogram on all different stats"
   ]
  },
  {
   "cell_type": "code",
   "execution_count": 7,
   "metadata": {},
   "outputs": [
    {
     "data": {
      "image/png": "[encoded data removed]",
      "text/plain": [
       "<Figure size 1296x576 with 6 Axes>"
      ]
     },
     "metadata": {
      "needs_background": "light"
     },
     "output_type": "display_data"
    }
   ],
   "source": [
    "mycursor.execute(\n",
    "    \"SELECT HP, Attack, Defense, Special_Attack, Special_Defense, Speed\\\n",
    "    FROM pokemon\"\n",
    ")\n",
    "\n",
    "all_stats = {\n",
    "    'HP': [], \n",
    "    'Attack': [],  \n",
    "    'Defense': [], \n",
    "    'Special_Attack': [],  \n",
    "    'Special_Defense': [], \n",
    "    'Speed': []\n",
    "}\n",
    "for row in mycursor.fetchall(): \n",
    "    for i, key in enumerate(all_stats.keys()): \n",
    "        all_stats[key].append(row[i])\n",
    "\n",
    "# histogram\n",
    "keys = list(all_stats.keys())\n",
    "fig, axes = plt.subplots(2, 3, figsize=(18,8))\n",
    "for i, ax in enumerate(axes.ravel()):  # for some reason u need .ravel()\n",
    "    ax.hist(all_stats[keys[i]], bins=25)\n",
    "    ax.set_title(keys[i])\n",
    "    ax.grid(True)\n",
    "    ax.set_xlim(0, 255)"
   ]
  },
  {
   "cell_type": "markdown",
   "metadata": {},
   "source": [
    "# find out the number battle a pokemon won or participated "
   ]
  },
  {
   "cell_type": "code",
   "execution_count": 38,
   "metadata": {},
   "outputs": [
    {
     "data": {
      "text/plain": [
       "[(3,)]"
      ]
     },
     "execution_count": 38,
     "metadata": {},
     "output_type": "execute_result"
    }
   ],
   "source": [
    "def number_of_wins(cursor, pokemon): \n",
    "    query_str = f\"\"\"\n",
    "        SELECT count(*) from battle \n",
    "        WHERE \n",
    "        (pokemon1 = '{pokemon}' and pokemon1_win = 1) \n",
    "        or \n",
    "        (pokemon2 = '{pokemon}' and pokemon1_win = 0)\n",
    "    \"\"\"\n",
    "    try: \n",
    "        cursor.execute(query_str)\n",
    "    except mysql.connector.Error as err:\n",
    "        raise err\n",
    "    return cursor.fetchall()\n",
    "\n",
    "\n",
    "number_of_wins(cursor=mycursor, pokemon='pikachu')"
   ]
  },
  {
   "cell_type": "code",
   "execution_count": 39,
   "metadata": {},
   "outputs": [
    {
     "data": {
      "text/plain": [
       "[(13,)]"
      ]
     },
     "execution_count": 39,
     "metadata": {},
     "output_type": "execute_result"
    }
   ],
   "source": [
    "def number_of_battles(cursor, pokemon): \n",
    "    query_str = f\"\"\"\n",
    "        SELECT count(*) from battle \n",
    "        WHERE pokemon1 = '{pokemon}' or pokemon2 = '{pokemon}'\n",
    "    \"\"\"\n",
    "    try: \n",
    "        cursor.execute(query_str)\n",
    "    except mysql.connector.Error as err:\n",
    "        raise err\n",
    "    return cursor.fetchall()\n",
    "\n",
    "\n",
    "number_of_battles(cursor=mycursor, pokemon='pikachu')"
   ]
  },
  {
   "cell_type": "code",
   "execution_count": null,
   "metadata": {},
   "outputs": [],
   "source": []
  }
 ],
 "metadata": {
  "interpreter": {
   "hash": "6fcfce8287c99ee8ec54ea3dbdb63da6dfb1de42a7b0d19825747adafe274d88"
  },
  "kernelspec": {
   "display_name": "Python 3.9.7 ('base')",
   "language": "python",
   "name": "python3"
  },
  "language_info": {
   "codemirror_mode": {
    "name": "ipython",
    "version": 3
   },
   "file_extension": ".py",
   "mimetype": "text/x-python",
   "name": "python",
   "nbconvert_exporter": "python",
   "pygments_lexer": "ipython3",
   "version": "3.9.7"
  },
  "orig_nbformat": 4
 },
 "nbformat": 4,
 "nbformat_minor": 2
}
